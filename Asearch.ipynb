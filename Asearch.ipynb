{
 "cells": [
  {
   "cell_type": "code",
   "execution_count": null,
   "metadata": {},
   "outputs": [
    {
     "name": "stderr",
     "output_type": "stream",
     "text": [
      "/Library/Frameworks/Python.framework/Versions/3.10/lib/python3.10/site-packages/sentence_transformers/cross_encoder/CrossEncoder.py:11: TqdmWarning: IProgress not found. Please update jupyter and ipywidgets. See https://ipywidgets.readthedocs.io/en/stable/user_install.html\n",
      "  from tqdm.autonotebook import tqdm, trange\n"
     ]
    }
   ],
   "source": [
    "import ssl\n",
    "import certifi\n",
    "import pandas as pd\n",
    "from indexMapping import indexMapping\n",
    "from elasticsearch import Elasticsearch\n",
    "from sentence_transformers import SentenceTransformer\n",
    "\n",
    "ssl_context = ssl.create_default_context(cafile=certifi.where())\n",
    "es = Elasticsearch(\"http://localhost:9200\")\n",
    "es.ping()"
   ]
  },
  {
   "cell_type": "code",
   "execution_count": null,
   "metadata": {},
   "outputs": [
    {
     "name": "stderr",
     "output_type": "stream",
     "text": [
      "/Library/Frameworks/Python.framework/Versions/3.10/lib/python3.10/site-packages/transformers/tokenization_utils_base.py:1601: FutureWarning: `clean_up_tokenization_spaces` was not set. It will be set to `True` by default. This behavior will be depracted in transformers v4.45, and will be then set to `False` by default. For more details check this issue: https://github.com/huggingface/transformers/issues/31884\n",
      "  warnings.warn(\n"
     ]
    }
   ],
   "source": [
    "df = pd.read_csv(\"myntra_products_catalog.csv\").loc[:499]\n",
    "df.fillna(\"None\", inplace=True)\n",
    "\n",
    "model = SentenceTransformer('all-mpnet-base-v2')\n",
    "df[\"DescriptionVector\"] = df[\"Description\"].apply(lambda x: model.encode(x))\n",
    "\n",
    "indexName = \"all_products\"\n",
    "if es.indices.exists(index=indexName):\n",
    "    es.indices.delete(index=indexName)\n",
    "    \n",
    "es.indices.create(index=\"all_products\", mappings=indexMapping)\n",
    "record_list = df.to_dict(\"records\")\n",
    "\n",
    "for record in record_list:\n",
    "    try:\n",
    "        es.index(index=indexName, document=record, id=record[\"ProductID\"])\n",
    "    except Exception as e:\n",
    "        print(e)\n",
    "        \n",
    "es.count(index=\"all_products\")"
   ]
  },
  {
   "cell_type": "code",
   "execution_count": 7,
   "metadata": {},
   "outputs": [
    {
     "name": "stderr",
     "output_type": "stream",
     "text": [
      "/var/folders/4g/b79qqr8d0bv9k0z5rs48rmp40000gn/T/ipykernel_37978/3728189831.py:11: ElasticsearchWarning: The kNN search API has been replaced by the `knn` option in the search API.\n",
      "  res = es.knn_search(index= indexName, knn=query , source=[\"ProductName\",\"Description\"])\n"
     ]
    },
    {
     "data": {
      "text/plain": [
       "[{'_index': 'all_products',\n",
       "  '_id': '10018013',\n",
       "  '_score': 0.45106566,\n",
       "  '_source': {'ProductName': 'Puma Men Blue Sneakers',\n",
       "   'Description': 'A pair of round-toe blue sneakers, has regular styling, lace-up detailTextile upperCushioned footbedTextured and patterned outsoleWarranty: 3 monthsWarranty provided by brand/manufacturer'}},\n",
       " {'_index': 'all_products',\n",
       "  '_id': '10018075',\n",
       "  '_score': 0.45106566,\n",
       "  '_source': {'ProductName': 'Puma Men Blue Sneakers',\n",
       "   'Description': 'A pair of round-toe blue sneakers, has regular styling, lace-up detailTextile upperCushioned footbedTextured and patterned outsoleWarranty: 3 monthsWarranty provided by brand/manufacturer'}}]"
      ]
     },
     "execution_count": 7,
     "metadata": {},
     "output_type": "execute_result"
    }
   ],
   "source": [
    "input_keyword = \"blue shose\"\n",
    "vector_of_input_keyword = model.encode(input_keyword)\n",
    "\n",
    "query = {\n",
    "    \"field\" : \"DescriptionVector\",\n",
    "    \"query_vector\" : vector_of_input_keyword,\n",
    "    \"k\" : 2,\n",
    "    \"num_candidates\" : 500, \n",
    "}\n",
    "\n",
    "res = es.knn_search(index= indexName, knn=query , source=[\"ProductName\",\"Description\"])\n",
    "res[\"hits\"][\"hits\"]"
   ]
  }
 ],
 "metadata": {
  "kernelspec": {
   "display_name": "Python 3",
   "language": "python",
   "name": "python3"
  },
  "language_info": {
   "codemirror_mode": {
    "name": "ipython",
    "version": 3
   },
   "file_extension": ".py",
   "mimetype": "text/x-python",
   "name": "python",
   "nbconvert_exporter": "python",
   "pygments_lexer": "ipython3",
   "version": "3.10.2"
  }
 },
 "nbformat": 4,
 "nbformat_minor": 2
}
